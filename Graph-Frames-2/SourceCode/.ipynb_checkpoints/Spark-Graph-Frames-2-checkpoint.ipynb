{
 "cells": [
  {
   "cell_type": "code",
   "execution_count": 1,
   "metadata": {},
   "outputs": [],
   "source": [
    "from pyspark import SparkContext\n",
    "from graphframes import *"
   ]
  },
  {
   "cell_type": "code",
   "execution_count": 2,
   "metadata": {},
   "outputs": [],
   "source": [
    "from pyspark import *\n",
    "from pyspark.sql import *"
   ]
  },
  {
   "cell_type": "code",
   "execution_count": 3,
   "metadata": {},
   "outputs": [],
   "source": [
    "import findspark"
   ]
  },
  {
   "cell_type": "code",
   "execution_count": 7,
   "metadata": {},
   "outputs": [
    {
     "ename": "ValueError",
     "evalue": "Cannot run multiple SparkContexts at once; existing SparkContext(app=PySparkShell, master=local[*]) created by <module> at C:\\Users\\prave\\Anaconda3\\lib\\site-packages\\IPython\\utils\\py3compat.py:188 ",
     "output_type": "error",
     "traceback": [
      "\u001b[1;31m---------------------------------------------------------------------------\u001b[0m",
      "\u001b[1;31mValueError\u001b[0m                                Traceback (most recent call last)",
      "\u001b[1;32m<ipython-input-7-0a15481c47b2>\u001b[0m in \u001b[0;36m<module>\u001b[1;34m\u001b[0m\n\u001b[1;32m----> 1\u001b[1;33m \u001b[0msc\u001b[0m\u001b[1;33m=\u001b[0m\u001b[0mSparkContext\u001b[0m\u001b[1;33m(\u001b[0m\u001b[1;33m)\u001b[0m\u001b[1;33m.\u001b[0m\u001b[0mgetOrCreate\u001b[0m\u001b[1;33m(\u001b[0m\u001b[1;33m)\u001b[0m\u001b[1;33m\u001b[0m\u001b[1;33m\u001b[0m\u001b[0m\n\u001b[0m",
      "\u001b[1;32mC:\\spark\\spark-2.4.5-bin-hadoop2.7\\python\\pyspark\\context.py\u001b[0m in \u001b[0;36m__init__\u001b[1;34m(self, master, appName, sparkHome, pyFiles, environment, batchSize, serializer, conf, gateway, jsc, profiler_cls)\u001b[0m\n\u001b[0;32m    131\u001b[0m                     \" note this option will be removed in Spark 3.0\")\n\u001b[0;32m    132\u001b[0m \u001b[1;33m\u001b[0m\u001b[0m\n\u001b[1;32m--> 133\u001b[1;33m         \u001b[0mSparkContext\u001b[0m\u001b[1;33m.\u001b[0m\u001b[0m_ensure_initialized\u001b[0m\u001b[1;33m(\u001b[0m\u001b[0mself\u001b[0m\u001b[1;33m,\u001b[0m \u001b[0mgateway\u001b[0m\u001b[1;33m=\u001b[0m\u001b[0mgateway\u001b[0m\u001b[1;33m,\u001b[0m \u001b[0mconf\u001b[0m\u001b[1;33m=\u001b[0m\u001b[0mconf\u001b[0m\u001b[1;33m)\u001b[0m\u001b[1;33m\u001b[0m\u001b[1;33m\u001b[0m\u001b[0m\n\u001b[0m\u001b[0;32m    134\u001b[0m         \u001b[1;32mtry\u001b[0m\u001b[1;33m:\u001b[0m\u001b[1;33m\u001b[0m\u001b[1;33m\u001b[0m\u001b[0m\n\u001b[0;32m    135\u001b[0m             self._do_init(master, appName, sparkHome, pyFiles, environment, batchSize, serializer,\n",
      "\u001b[1;32mC:\\spark\\spark-2.4.5-bin-hadoop2.7\\python\\pyspark\\context.py\u001b[0m in \u001b[0;36m_ensure_initialized\u001b[1;34m(cls, instance, gateway, conf)\u001b[0m\n\u001b[0;32m    330\u001b[0m                         \u001b[1;34m\" created by %s at %s:%s \"\u001b[0m\u001b[1;33m\u001b[0m\u001b[1;33m\u001b[0m\u001b[0m\n\u001b[0;32m    331\u001b[0m                         % (currentAppName, currentMaster,\n\u001b[1;32m--> 332\u001b[1;33m                             callsite.function, callsite.file, callsite.linenum))\n\u001b[0m\u001b[0;32m    333\u001b[0m                 \u001b[1;32melse\u001b[0m\u001b[1;33m:\u001b[0m\u001b[1;33m\u001b[0m\u001b[1;33m\u001b[0m\u001b[0m\n\u001b[0;32m    334\u001b[0m                     \u001b[0mSparkContext\u001b[0m\u001b[1;33m.\u001b[0m\u001b[0m_active_spark_context\u001b[0m \u001b[1;33m=\u001b[0m \u001b[0minstance\u001b[0m\u001b[1;33m\u001b[0m\u001b[1;33m\u001b[0m\u001b[0m\n",
      "\u001b[1;31mValueError\u001b[0m: Cannot run multiple SparkContexts at once; existing SparkContext(app=PySparkShell, master=local[*]) created by <module> at C:\\Users\\prave\\Anaconda3\\lib\\site-packages\\IPython\\utils\\py3compat.py:188 "
     ]
    }
   ],
   "source": [
    "sc=SparkContext().getOrCreate()"
   ]
  },
  {
   "cell_type": "code",
   "execution_count": 4,
   "metadata": {},
   "outputs": [],
   "source": [
    "sqlcontext=SQLContext(sc)"
   ]
  },
  {
   "cell_type": "code",
   "execution_count": null,
   "metadata": {},
   "outputs": [],
   "source": [
    "df_station=sqlcontext.read.format(\"csv\").option(\"header\",\"true\").csv(\"201508_station_data.csv\")\n",
    "df_trip=sqlcontext.read.format(\"csv\").option(\"header\",\"true\").csv(\"201508_trip_data.csv\")"
   ]
  },
  {
   "cell_type": "code",
   "execution_count": null,
   "metadata": {},
   "outputs": [],
   "source": [
    "df_station.registerTempTable(\"station\")\n",
    "df_trip.registerTempTable(\"trip\")\n"
   ]
  },
  {
   "cell_type": "code",
   "execution_count": 13,
   "metadata": {},
   "outputs": [],
   "source": [
    "vertices=sqlcontext.sql('select name as id, concat(cast(lat as string),\" \",cast(long as String)) as lat_long, dockcount,installation from station group by station_id,name,lat,long,dockcount,landmark,installation')\n"
   ]
  },
  {
   "cell_type": "code",
   "execution_count": 14,
   "metadata": {},
   "outputs": [],
   "source": [
    "edges=sqlcontext.sql('select `Start Station` as src,`End Station` as dst, count(*) as cnt from trip group by `Start Station`,`End Station`')"
   ]
  },
  {
   "cell_type": "code",
   "execution_count": 15,
   "metadata": {},
   "outputs": [],
   "source": [
    "from graphframes import *"
   ]
  },
  {
   "cell_type": "code",
   "execution_count": 16,
   "metadata": {},
   "outputs": [],
   "source": [
    "graph=GraphFrame(vertices,edges)"
   ]
  },
  {
   "cell_type": "code",
   "execution_count": 17,
   "metadata": {},
   "outputs": [
    {
     "name": "stdout",
     "output_type": "stream",
     "text": [
      "+--------------------+--------------------+---------+------------+\n",
      "|                  id|            lat_long|dockcount|installation|\n",
      "+--------------------+--------------------+---------+------------+\n",
      "|  San Jose City Hall|37.337391 -121.88...|       15|    8/6/2013|\n",
      "|Palo Alto Caltrai...|37.443988 -122.16...|       23|   8/14/2013|\n",
      "| San Salvador at 1st|37.330165 -121.88...|       15|    8/5/2013|\n",
      "|    Davis at Jackson|37.79728 -122.398436|       15|   8/19/2013|\n",
      "|      Market at 10th|37.776619 -122.41...|       27|   8/23/2013|\n",
      "|Castro Street and...|37.385956 -122.08...|       11|  12/31/2013|\n",
      "|Temporary Transba...|37.789756 -122.39...|       23|   8/20/2013|\n",
      "|   2nd at South Park|37.782259 -122.39...|       15|   8/22/2013|\n",
      "|Commercial at Mon...|37.794231 -122.40...|       15|   8/19/2013|\n",
      "|     Spear at Folsom|37.790302 -122.39...|       19|   8/20/2013|\n",
      "|Santa Clara at Al...|37.333988 -121.89...|       11|    8/6/2013|\n",
      "|Embarcadero at Br...|37.787152 -122.38...|       15|   8/20/2013|\n",
      "|       Park at Olive|37.4256839 -122.1...|       15|   8/14/2013|\n",
      "|San Antonio Shopp...|37.400443 -122.10...|       15|  12/31/2013|\n",
      "|Powell at Post (U...|37.788446 -122.40...|       19|   8/23/2013|\n",
      "|       Howard at 2nd|37.786978 -122.39...|       19|   8/22/2013|\n",
      "|Civic Center BART...|37.781039 -122.41...|       23|   8/23/2013|\n",
      "|         MLK Library|37.335885 -121.88566|       19|    8/6/2013|\n",
      "|Yerba Buena Cente...|37.784878 -122.40...|       19|   8/23/2013|\n",
      "|       Market at 4th|37.786305 -122.40...|       19|   8/25/2013|\n",
      "+--------------------+--------------------+---------+------------+\n",
      "only showing top 20 rows\n",
      "\n"
     ]
    }
   ],
   "source": [
    "graph.vertices.show()"
   ]
  },
  {
   "cell_type": "code",
   "execution_count": 18,
   "metadata": {},
   "outputs": [
    {
     "name": "stdout",
     "output_type": "stream",
     "text": [
      "+--------------------+--------------------+---+\n",
      "|                 src|                 dst|cnt|\n",
      "+--------------------+--------------------+---+\n",
      "|       2nd at Folsom|San Francisco Cal...|179|\n",
      "| Golden Gate at Polk|   Steuart at Market| 40|\n",
      "|Grant Avenue at C...|Mechanics Plaza (...| 32|\n",
      "|Temporary Transba...|Harry Bridges Pla...| 49|\n",
      "|University and Em...|California Ave Ca...| 21|\n",
      "|Evelyn Park and Ride|Evelyn Park and Ride| 12|\n",
      "|   2nd at South Park|Yerba Buena Cente...| 16|\n",
      "|      Market at 10th|      Market at 10th| 50|\n",
      "|Grant Avenue at C...|Powell at Post (U...| 39|\n",
      "|      Market at 10th|     Clay at Battery|  3|\n",
      "|San Francisco Cal...|   Steuart at Market|177|\n",
      "|     Clay at Battery|Mechanics Plaza (...| 12|\n",
      "|       2nd at Folsom|       Howard at 2nd| 18|\n",
      "|Broadway St at Ba...|   2nd at South Park| 10|\n",
      "|Embarcadero at Br...|    Davis at Jackson| 14|\n",
      "|Embarcadero at Va...|       Howard at 2nd| 12|\n",
      "|Commercial at Mon...|Mechanics Plaza (...| 36|\n",
      "|  Powell Street BART|Civic Center BART...| 37|\n",
      "|Powell at Post (U...|       2nd at Folsom|  2|\n",
      "|Harry Bridges Pla...|Grant Avenue at C...| 39|\n",
      "+--------------------+--------------------+---+\n",
      "only showing top 20 rows\n",
      "\n"
     ]
    }
   ],
   "source": [
    "graph.edges.show()"
   ]
  },
  {
   "cell_type": "code",
   "execution_count": 19,
   "metadata": {},
   "outputs": [
    {
     "name": "stdout",
     "output_type": "stream",
     "text": [
      "+--------------------+--------+\n",
      "|                  id|inDegree|\n",
      "+--------------------+--------+\n",
      "|       2nd at Folsom|      33|\n",
      "|California Ave Ca...|       8|\n",
      "|Powell at Post (U...|      35|\n",
      "| Golden Gate at Polk|      35|\n",
      "|Yerba Buena Cente...|      35|\n",
      "|   Market at Sansome|      35|\n",
      "|     Spear at Folsom|      35|\n",
      "|         MLK Library|      14|\n",
      "|           Japantown|      14|\n",
      "|Commercial at Mon...|      35|\n",
      "|Paseo de San Antonio|      15|\n",
      "|Rengstorff Avenue...|       8|\n",
      "| San Salvador at 1st|      13|\n",
      "|     Townsend at 7th|      35|\n",
      "|Civic Center BART...|      35|\n",
      "|         Ryland Park|      11|\n",
      "|San Jose Diridon ...|      16|\n",
      "|San Jose Civic Ce...|       8|\n",
      "|                null|       1|\n",
      "|          Mezes Park|       2|\n",
      "+--------------------+--------+\n",
      "only showing top 20 rows\n",
      "\n"
     ]
    }
   ],
   "source": [
    "graph.inDegrees.show()"
   ]
  },
  {
   "cell_type": "code",
   "execution_count": 20,
   "metadata": {},
   "outputs": [
    {
     "name": "stdout",
     "output_type": "stream",
     "text": [
      "+--------------------+---------+\n",
      "|                  id|outDegree|\n",
      "+--------------------+---------+\n",
      "|       2nd at Folsom|       35|\n",
      "|California Ave Ca...|        7|\n",
      "|Powell at Post (U...|       35|\n",
      "| Golden Gate at Polk|       33|\n",
      "|Yerba Buena Cente...|       34|\n",
      "|   Market at Sansome|       35|\n",
      "|     Spear at Folsom|       35|\n",
      "|         MLK Library|       14|\n",
      "|           Japantown|       13|\n",
      "|Commercial at Mon...|       35|\n",
      "|Paseo de San Antonio|       14|\n",
      "| San Salvador at 1st|       10|\n",
      "|Rengstorff Avenue...|        9|\n",
      "|     Townsend at 7th|       35|\n",
      "|Civic Center BART...|       35|\n",
      "|         Ryland Park|        9|\n",
      "|San Jose Diridon ...|       16|\n",
      "|San Jose Civic Ce...|       12|\n",
      "|          Mezes Park|        4|\n",
      "|SJSU - San Salvad...|       13|\n",
      "+--------------------+---------+\n",
      "only showing top 20 rows\n",
      "\n"
     ]
    }
   ],
   "source": [
    "graph.outDegrees.show()"
   ]
  },
  {
   "cell_type": "code",
   "execution_count": 24,
   "metadata": {
    "scrolled": true
   },
   "outputs": [
    {
     "name": "stdout",
     "output_type": "stream",
     "text": [
      "+-----+--------------------+--------------------+---------+------------+\n",
      "|count|                  id|            lat_long|dockcount|installation|\n",
      "+-----+--------------------+--------------------+---------+------------+\n",
      "|  496|       2nd at Folsom|37.785299 -122.39...|       19|   8/22/2013|\n",
      "|   23|California Ave Ca...|37.429082 -122.14...|       15|   8/14/2013|\n",
      "|    0|Washington at Kea...|37.795425 -122.40...|       15|   8/19/2013|\n",
      "|  496|Powell at Post (U...|37.788446 -122.40...|       19|   8/23/2013|\n",
      "|  496| Golden Gate at Polk|37.781332 -122.41...|       23|   8/21/2013|\n",
      "|  496|Yerba Buena Cente...|37.784878 -122.40...|       19|   8/23/2013|\n",
      "|  496|   Market at Sansome|37.789625 -122.40...|       27|   8/25/2013|\n",
      "|   90|         MLK Library|37.335885 -121.88566|       19|    8/6/2013|\n",
      "|  496|     Spear at Folsom|37.790302 -122.39...|       19|   8/20/2013|\n",
      "|   77|           Japantown|37.348742 -121.89...|       15|    8/5/2013|\n",
      "|  496|Commercial at Mon...|37.794231 -122.40...|       15|   8/19/2013|\n",
      "|   81|Paseo de San Antonio|37.333798 -121.88...|       15|    8/7/2013|\n",
      "|   23|Rengstorff Avenue...|37.400241 -122.09...|       15|   8/16/2013|\n",
      "|   61| San Salvador at 1st|37.330165 -121.88...|       15|    8/5/2013|\n",
      "|  496|     Townsend at 7th|37.771058 -122.40...|       15|   8/22/2013|\n",
      "|  496|Civic Center BART...|37.781039 -122.41...|       23|   8/23/2013|\n",
      "|   41|         Ryland Park|37.342725 -121.89...|       15|    4/9/2014|\n",
      "|   90|San Jose Diridon ...|37.329732 -121.90...|       27|    8/6/2013|\n",
      "|   63|San Jose Civic Ce...|37.330698 -121.88...|       15|    8/5/2013|\n",
      "|    0|     Post at Kearney|37.788975 -122.40...|       19|   8/19/2013|\n",
      "+-----+--------------------+--------------------+---------+------------+\n",
      "only showing top 20 rows\n",
      "\n"
     ]
    }
   ],
   "source": [
    "graph.triangleCount().show()"
   ]
  },
  {
   "cell_type": "code",
   "execution_count": 27,
   "metadata": {},
   "outputs": [
    {
     "name": "stdout",
     "output_type": "stream",
     "text": [
      "+--------------------+--------------------+---------+------------+--------------------+\n",
      "|                  id|            lat_long|dockcount|installation|           distances|\n",
      "+--------------------+--------------------+---------+------------+--------------------+\n",
      "|       2nd at Folsom|37.785299 -122.39...|       19|   8/22/2013|[2nd at Folsom ->...|\n",
      "|      Market at 10th|37.776619 -122.41...|       27|   8/23/2013|[Golden Gate at P...|\n",
      "|California Ave Ca...|37.429082 -122.14...|       15|   8/14/2013|                  []|\n",
      "|Washington at Kea...|37.795425 -122.40...|       15|   8/19/2013|                  []|\n",
      "|Redwood City Publ...|37.484219 -122.22...|       15|   8/12/2013|                  []|\n",
      "|Powell at Post (U...|37.788446 -122.40...|       19|   8/23/2013|[2nd at Folsom ->...|\n",
      "| Golden Gate at Polk|37.781332 -122.41...|       23|   8/21/2013|[Golden Gate at P...|\n",
      "|    Adobe on Almaden| 37.331415 -121.8932|       19|    8/5/2013|                  []|\n",
      "|Broadway St at Ba...|37.798541 -122.40...|       15|   1/22/2014|[2nd at Folsom ->...|\n",
      "|Yerba Buena Cente...|37.784878 -122.40...|       19|   8/23/2013|[2nd at Folsom ->...|\n",
      "|     Beale at Market|37.792251 -122.39...|       19|   8/20/2013|[Golden Gate at P...|\n",
      "|   Market at Sansome|37.789625 -122.40...|       27|   8/25/2013|[2nd at Folsom ->...|\n",
      "|         MLK Library|37.335885 -121.88566|       19|    8/6/2013|                  []|\n",
      "|     Spear at Folsom|37.790302 -122.39...|       19|   8/20/2013|[2nd at Folsom ->...|\n",
      "|       5th at Howard|37.781752 -122.40...|       15|   8/21/2013|[2nd at Folsom ->...|\n",
      "|           Japantown|37.348742 -121.89...|       15|    8/5/2013|                  []|\n",
      "|Commercial at Mon...|37.794231 -122.40...|       15|   8/19/2013|[2nd at Folsom ->...|\n",
      "|    San Pedro Square|37.336721 -121.89...|       15|    8/7/2013|                  []|\n",
      "|Paseo de San Antonio|37.333798 -121.88...|       15|    8/7/2013|                  []|\n",
      "|Redwood City Medi...|37.487682 -122.22...|       15|   8/12/2013|                  []|\n",
      "+--------------------+--------------------+---------+------------+--------------------+\n",
      "only showing top 20 rows\n",
      "\n"
     ]
    }
   ],
   "source": [
    "graph.shortestPaths(landmarks=[\"2nd at Folsom\",\"Golden Gate at Polk\"]).show()"
   ]
  },
  {
   "cell_type": "code",
   "execution_count": 28,
   "metadata": {},
   "outputs": [],
   "source": [
    "pageRankgraph=graph.pageRank(resetProbability=0.15,maxIter=4)"
   ]
  },
  {
   "cell_type": "code",
   "execution_count": 29,
   "metadata": {},
   "outputs": [
    {
     "name": "stdout",
     "output_type": "stream",
     "text": [
      "+--------------------+--------------------+---------+------------+------------------+\n",
      "|                  id|            lat_long|dockcount|installation|          pagerank|\n",
      "+--------------------+--------------------+---------+------------+------------------+\n",
      "|       2nd at Folsom|37.785299 -122.39...|       19|   8/22/2013| 0.974871759347731|\n",
      "|      Market at 10th|37.776619 -122.41...|       27|   8/23/2013| 1.030684772147714|\n",
      "|California Ave Ca...|37.429082 -122.14...|       15|   8/14/2013| 1.084994786980722|\n",
      "|Washington at Kea...|37.795425 -122.40...|       15|   8/19/2013|0.1537335285505124|\n",
      "|Redwood City Publ...|37.484219 -122.22...|       15|   8/12/2013|0.8114308354099622|\n",
      "|Powell at Post (U...|37.788446 -122.40...|       19|   8/23/2013|1.0306847721477141|\n",
      "| Golden Gate at Polk|37.781332 -122.41...|       23|   8/21/2013|1.0306847721477141|\n",
      "|    Adobe on Almaden| 37.331415 -121.8932|       19|    8/5/2013|0.9011709732195079|\n",
      "|Broadway St at Ba...|37.798541 -122.40...|       15|   1/22/2014|1.0040262448835346|\n",
      "|Yerba Buena Cente...|37.784878 -122.40...|       19|   8/23/2013| 1.030684772147714|\n",
      "|     Beale at Market|37.792251 -122.39...|       19|   8/20/2013| 1.030684772147714|\n",
      "|   Market at Sansome|37.789625 -122.40...|       27|   8/25/2013| 1.030684772147714|\n",
      "|         MLK Library|37.335885 -121.88566|       19|    8/6/2013|1.0881266347995449|\n",
      "|     Spear at Folsom|37.790302 -122.39...|       19|   8/20/2013| 1.030684772147714|\n",
      "|       5th at Howard|37.781752 -122.40...|       15|   8/21/2013|1.0306847721477141|\n",
      "|           Japantown|37.348742 -121.89...|       15|    8/5/2013|1.1304385038092617|\n",
      "|Commercial at Mon...|37.794231 -122.40...|       15|   8/19/2013| 1.030684772147714|\n",
      "|    San Pedro Square|37.336721 -121.89...|       15|    8/7/2013|1.2671086640427935|\n",
      "|Paseo de San Antonio|37.333798 -121.88...|       15|    8/7/2013|1.1993168357952422|\n",
      "|Redwood City Medi...|37.487682 -122.22...|       15|   8/12/2013|0.4662140245168183|\n",
      "+--------------------+--------------------+---------+------------+------------------+\n",
      "only showing top 20 rows\n",
      "\n"
     ]
    }
   ],
   "source": [
    "pageRankgraph.vertices.show()"
   ]
  },
  {
   "cell_type": "code",
   "execution_count": 30,
   "metadata": {},
   "outputs": [
    {
     "name": "stdout",
     "output_type": "stream",
     "text": [
      "+--------------------+--------------------+---+--------------------+\n",
      "|                 src|                 dst|cnt|              weight|\n",
      "+--------------------+--------------------+---+--------------------+\n",
      "|       2nd at Folsom|San Francisco Cal...| 58|0.030303030303030304|\n",
      "|   Market at Sansome|       Market at 4th| 24|0.030303030303030304|\n",
      "|     Spear at Folsom|    Davis at Jackson| 21|0.030303030303030304|\n",
      "|Commercial at Mon...|Embarcadero at Br...| 40|0.030303030303030304|\n",
      "|     Townsend at 7th|San Francisco Cal...| 73|0.030303030303030304|\n",
      "|          Mezes Park|          Mezes Park|  4|                0.25|\n",
      "|       5th at Howard|Grant Avenue at C...|  7|0.030303030303030304|\n",
      "|San Francisco Cal...|Embarcadero at Sa...| 74|0.030303030303030304|\n",
      "|     Townsend at 7th|       Howard at 2nd| 81|0.030303030303030304|\n",
      "|SJSU - San Salvad...|SJSU - San Salvad...| 12| 0.07692307692307693|\n",
      "|Embarcadero at Sa...|Temporary Transba...| 84|0.030303030303030304|\n",
      "|San Francisco Cal...|  Powell Street BART|221|0.030303030303030304|\n",
      "|   2nd at South Park|   Market at Sansome|224|0.030303030303030304|\n",
      "|San Francisco Cal...|  Powell Street BART|161|0.030303030303030304|\n",
      "|       St James Park|San Jose Diridon ...| 38| 0.08333333333333333|\n",
      "|         MLK Library|San Jose Civic Ce...|  1| 0.07142857142857142|\n",
      "|San Antonio Caltr...|Mountain View Cit...|  6|                 0.1|\n",
      "|Mountain View Cal...|San Antonio Caltr...| 17|  0.1111111111111111|\n",
      "|Harry Bridges Pla...|     2nd at Townsend|378|0.030303030303030304|\n",
      "|Civic Center BART...|     Clay at Battery|  6|0.030303030303030304|\n",
      "+--------------------+--------------------+---+--------------------+\n",
      "only showing top 20 rows\n",
      "\n"
     ]
    }
   ],
   "source": [
    "pageRankgraph.edges.show()"
   ]
  },
  {
   "cell_type": "code",
   "execution_count": 31,
   "metadata": {},
   "outputs": [],
   "source": [
    "graph.vertices.write.parquet(\"vertices\")\n",
    "graph.edges.write.parquet(\"edges\")"
   ]
  },
  {
   "cell_type": "code",
   "execution_count": 32,
   "metadata": {},
   "outputs": [
    {
     "name": "stdout",
     "output_type": "stream",
     "text": [
      "+--------------------+-------------+\n",
      "|                  id|        label|\n",
      "+--------------------+-------------+\n",
      "|       2nd at Folsom|            0|\n",
      "|      Market at 10th|            0|\n",
      "|California Ave Ca...|1649267441664|\n",
      "|Washington at Kea...|  17179869184|\n",
      "|Redwood City Publ...| 730144440320|\n",
      "|Powell at Post (U...|            0|\n",
      "| Golden Gate at Polk|            0|\n",
      "|    Adobe on Almaden| 257698037761|\n",
      "|Broadway St at Ba...|            0|\n",
      "|Yerba Buena Cente...|            0|\n",
      "|     Beale at Market|            0|\n",
      "|   Market at Sansome|            0|\n",
      "|         MLK Library| 257698037761|\n",
      "|     Spear at Folsom|            0|\n",
      "|       5th at Howard|            0|\n",
      "|           Japantown| 257698037761|\n",
      "|Commercial at Mon...|            0|\n",
      "|    San Pedro Square| 257698037761|\n",
      "|Paseo de San Antonio| 257698037761|\n",
      "|Redwood City Medi...| 730144440320|\n",
      "+--------------------+-------------+\n",
      "only showing top 20 rows\n",
      "\n"
     ]
    }
   ],
   "source": [
    "result=graph.labelPropagation(maxIter=5)\n",
    "result.select(\"id\",\"label\").show()"
   ]
  },
  {
   "cell_type": "code",
   "execution_count": 33,
   "metadata": {},
   "outputs": [],
   "source": [
    "paths=graph.bfs(\"id = 'Japantown'\",\"id = 'MLK Library'\")"
   ]
  },
  {
   "cell_type": "code",
   "execution_count": 34,
   "metadata": {},
   "outputs": [
    {
     "name": "stdout",
     "output_type": "stream",
     "text": [
      "+--------------------+--------------------+--------------------+\n",
      "|                from|                  e0|                  to|\n",
      "+--------------------+--------------------+--------------------+\n",
      "|[Japantown, 37.34...|[Japantown, MLK L...|[MLK Library, 37....|\n",
      "+--------------------+--------------------+--------------------+\n",
      "\n"
     ]
    }
   ],
   "source": [
    "paths.show()"
   ]
  }
 ],
 "metadata": {
  "kernelspec": {
   "display_name": "Python 3",
   "language": "python",
   "name": "python3"
  },
  "language_info": {
   "codemirror_mode": {
    "name": "ipython",
    "version": 3
   },
   "file_extension": ".py",
   "mimetype": "text/x-python",
   "name": "python",
   "nbconvert_exporter": "python",
   "pygments_lexer": "ipython3",
   "version": "3.7.3"
  }
 },
 "nbformat": 4,
 "nbformat_minor": 2
}
