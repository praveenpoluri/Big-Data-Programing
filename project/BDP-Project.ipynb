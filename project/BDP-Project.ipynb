{
 "cells": [
  {
   "cell_type": "code",
   "execution_count": 1,
   "metadata": {},
   "outputs": [],
   "source": [
    "from pyspark import SparkContext\n",
    "from graphframes import *"
   ]
  },
  {
   "cell_type": "code",
   "execution_count": 2,
   "metadata": {},
   "outputs": [],
   "source": [
    "\n",
    "from pyspark import *\n",
    "from pyspark.sql import *"
   ]
  },
  {
   "cell_type": "code",
   "execution_count": 3,
   "metadata": {},
   "outputs": [],
   "source": [
    "\n",
    "import findspark"
   ]
  },
  {
   "cell_type": "code",
   "execution_count": 4,
   "metadata": {},
   "outputs": [],
   "source": [
    "sc=SparkContext().getOrCreate()"
   ]
  },
  {
   "cell_type": "code",
   "execution_count": 5,
   "metadata": {},
   "outputs": [],
   "source": [
    "sqlcontext=SQLContext(sc)"
   ]
  },
  {
   "cell_type": "code",
   "execution_count": 6,
   "metadata": {},
   "outputs": [],
   "source": [
    "df=sqlcontext.read.format(\"csv\").option(\"header\",\"true\").csv(\"tweets_file2.csv\")"
   ]
  },
  {
   "cell_type": "code",
   "execution_count": 7,
   "metadata": {},
   "outputs": [],
   "source": [
    "df.registerTempTable(\"Twitter\")"
   ]
  },
  {
   "cell_type": "code",
   "execution_count": 8,
   "metadata": {},
   "outputs": [
    {
     "data": {
      "text/plain": [
       "Row(id='1', user_description='None', user_location='None', coordinates='None', text=\"RT @michaeljohns: What a great pleasure to speak extensively with @DanRodimer tonight! He's the dynamic, #Trump-supporting #GOP candidate i…\", user_name='Tiffpop1', user_created='2019-12-09T02:11:02', user_followers='16', id_str='1.24778E+18', created='2020-04-08T06:41:27', retweet_count='0', polarity='0.266666667', subjectivity='0.416666667')"
      ]
     },
     "execution_count": 8,
     "metadata": {},
     "output_type": "execute_result"
    }
   ],
   "source": [
    "df.head()"
   ]
  },
  {
   "cell_type": "code",
   "execution_count": 17,
   "metadata": {},
   "outputs": [],
   "source": [
    "vertices=sqlcontext.sql('select id, user_location from Twitter where id between 1 and 100')"
   ]
  },
  {
   "cell_type": "code",
   "execution_count": 18,
   "metadata": {},
   "outputs": [
    {
     "name": "stdout",
     "output_type": "stream",
     "text": [
      "+---+--------------------+\n",
      "| id|       user_location|\n",
      "+---+--------------------+\n",
      "|  1|                None|\n",
      "|  2|                None|\n",
      "|  3|      Menlo Park, CA|\n",
      "|  4|           Wisconsin|\n",
      "|  5|                null|\n",
      "|  6|              Dudley|\n",
      "|  7|Yarraville, Melbo...|\n",
      "|  8|                None|\n",
      "|  9|          Dallas, TX|\n",
      "| 10|                None|\n",
      "| 11|Small Town, North...|\n",
      "| 12|      Georgetown, TX|\n",
      "| 13|                None|\n",
      "| 14|                None|\n",
      "| 15|                  NJ|\n",
      "| 16|Berkeley, California|\n",
      "| 17|         Seattle, WA|\n",
      "| 18|                null|\n",
      "| 19|           Wisconsin|\n",
      "| 20|Winter Haven Florida|\n",
      "+---+--------------------+\n",
      "only showing top 20 rows\n",
      "\n"
     ]
    }
   ],
   "source": [
    "vertices.show()"
   ]
  },
  {
   "cell_type": "code",
   "execution_count": 27,
   "metadata": {},
   "outputs": [],
   "source": [
    "edges=sqlcontext.sql('select `user_name` as src, `user_followers` as dst from Twitter')"
   ]
  },
  {
   "cell_type": "code",
   "execution_count": 28,
   "metadata": {},
   "outputs": [
    {
     "name": "stdout",
     "output_type": "stream",
     "text": [
      "+-------------------+----+\n",
      "|                src| dst|\n",
      "+-------------------+----+\n",
      "|           Tiffpop1|  16|\n",
      "|           DebsMAGA|3077|\n",
      "|        shafithinks| 639|\n",
      "|    Bernard96328555| 573|\n",
      "|               null|null|\n",
      "|               null|null|\n",
      "|               null|null|\n",
      "|               null|null|\n",
      "|               null|null|\n",
      "|2020-04-08T06:41:28| 0.0|\n",
      "|               null|null|\n",
      "|2020-04-08T06:41:28| 0.0|\n",
      "|     Yarravilleemma| 172|\n",
      "|           Bennus_H| 358|\n",
      "|       PrisGalstaun| 312|\n",
      "|          arbrown16|  26|\n",
      "|       BethRoseboro| 405|\n",
      "|        jaylenbrass|  55|\n",
      "|        socialist89|  11|\n",
      "|               null|null|\n",
      "+-------------------+----+\n",
      "only showing top 20 rows\n",
      "\n"
     ]
    }
   ],
   "source": [
    "edges.show()"
   ]
  },
  {
   "cell_type": "code",
   "execution_count": 29,
   "metadata": {},
   "outputs": [],
   "source": [
    "from graphframes import *"
   ]
  },
  {
   "cell_type": "code",
   "execution_count": 30,
   "metadata": {},
   "outputs": [],
   "source": [
    "graph=GraphFrame(vertices,edges)"
   ]
  },
  {
   "cell_type": "code",
   "execution_count": 31,
   "metadata": {},
   "outputs": [
    {
     "name": "stdout",
     "output_type": "stream",
     "text": [
      "+---+--------------------+\n",
      "| id|       user_location|\n",
      "+---+--------------------+\n",
      "|  1|                None|\n",
      "|  2|                None|\n",
      "|  3|      Menlo Park, CA|\n",
      "|  4|           Wisconsin|\n",
      "|  5|                null|\n",
      "|  6|              Dudley|\n",
      "|  7|Yarraville, Melbo...|\n",
      "|  8|                None|\n",
      "|  9|          Dallas, TX|\n",
      "| 10|                None|\n",
      "| 11|Small Town, North...|\n",
      "| 12|      Georgetown, TX|\n",
      "| 13|                None|\n",
      "| 14|                None|\n",
      "| 15|                  NJ|\n",
      "| 16|Berkeley, California|\n",
      "| 17|         Seattle, WA|\n",
      "| 18|                null|\n",
      "| 19|           Wisconsin|\n",
      "| 20|Winter Haven Florida|\n",
      "+---+--------------------+\n",
      "only showing top 20 rows\n",
      "\n"
     ]
    }
   ],
   "source": [
    "graph.vertices.show()"
   ]
  },
  {
   "cell_type": "code",
   "execution_count": 32,
   "metadata": {},
   "outputs": [
    {
     "name": "stdout",
     "output_type": "stream",
     "text": [
      "+-------------------+----+\n",
      "|                src| dst|\n",
      "+-------------------+----+\n",
      "|           Tiffpop1|  16|\n",
      "|           DebsMAGA|3077|\n",
      "|        shafithinks| 639|\n",
      "|    Bernard96328555| 573|\n",
      "|               null|null|\n",
      "|               null|null|\n",
      "|               null|null|\n",
      "|               null|null|\n",
      "|               null|null|\n",
      "|2020-04-08T06:41:28| 0.0|\n",
      "|               null|null|\n",
      "|2020-04-08T06:41:28| 0.0|\n",
      "|     Yarravilleemma| 172|\n",
      "|           Bennus_H| 358|\n",
      "|       PrisGalstaun| 312|\n",
      "|          arbrown16|  26|\n",
      "|       BethRoseboro| 405|\n",
      "|        jaylenbrass|  55|\n",
      "|        socialist89|  11|\n",
      "|               null|null|\n",
      "+-------------------+----+\n",
      "only showing top 20 rows\n",
      "\n"
     ]
    }
   ],
   "source": [
    "graph.edges.show()"
   ]
  },
  {
   "cell_type": "code",
   "execution_count": 33,
   "metadata": {},
   "outputs": [
    {
     "name": "stdout",
     "output_type": "stream",
     "text": [
      "+-------------------+--------+\n",
      "|                 id|inDegree|\n",
      "+-------------------+--------+\n",
      "|                296|      57|\n",
      "|                675|      26|\n",
      "|1247777583757815808|       1|\n",
      "|               2294|       1|\n",
      "|               1436|      10|\n",
      "|               1572|      10|\n",
      "|                467|      34|\n",
      "|                691|      30|\n",
      "|                829|      13|\n",
      "|1247780353911058432|       1|\n",
      "|1247780983991984128|       1|\n",
      "|               4032|       4|\n",
      "|               2904|       3|\n",
      "|1247897874043564039|       1|\n",
      "|               3606|       2|\n",
      "|               3414|       3|\n",
      "|        JeffTracy13|       1|\n",
      "|              85022|       1|\n",
      "|               1090|      17|\n",
      "|2009-02-28T01:14:27|       6|\n",
      "+-------------------+--------+\n",
      "only showing top 20 rows\n",
      "\n"
     ]
    }
   ],
   "source": [
    "graph.inDegrees.show()"
   ]
  },
  {
   "cell_type": "code",
   "execution_count": 34,
   "metadata": {},
   "outputs": [
    {
     "name": "stdout",
     "output_type": "stream",
     "text": [
      "+-------------------+---------+\n",
      "|                 id|outDegree|\n",
      "+-------------------+---------+\n",
      "|       CreateDebate|        1|\n",
      "|      RobinRobinw63|        2|\n",
      "|2016-10-18T21:08:28|        1|\n",
      "|       MusicCityHwy|        1|\n",
      "|          queenjord|        1|\n",
      "|      Hena786Zarine|        1|\n",
      "|2010-05-02T16:21:00|        2|\n",
      "|    Reading4Leading|        2|\n",
      "|         psim284876|        3|\n",
      "|            hopps_t|        2|\n",
      "|1247778645034151941|        1|\n",
      "|2020-04-08T06:49:46|        2|\n",
      "|     PatelPatel9162|        1|\n",
      "|2020-04-08T06:54:17|        1|\n",
      "|       alwaysjathis|        1|\n",
      "|2011-06-09T14:50:16|        1|\n",
      "|        lokigirl459|        1|\n",
      "|      GideonNeptune|        2|\n",
      "|            BeeGigi|        1|\n",
      "|        lazylynxcat|        1|\n",
      "+-------------------+---------+\n",
      "only showing top 20 rows\n",
      "\n"
     ]
    }
   ],
   "source": [
    "graph.outDegrees.show()"
   ]
  },
  {
   "cell_type": "code",
   "execution_count": 35,
   "metadata": {},
   "outputs": [
    {
     "name": "stdout",
     "output_type": "stream",
     "text": [
      "+-----+---+--------------------+\n",
      "|count| id|       user_location|\n",
      "+-----+---+--------------------+\n",
      "|    0| 51|          Denver, CO|\n",
      "|    0|  7|Yarraville, Melbo...|\n",
      "|    0| 15|                  NJ|\n",
      "|    0| 54|Occupied Duwamish...|\n",
      "|    0| 11|Small Town, North...|\n",
      "|    0| 29|                null|\n",
      "|    0| 29|                cats|\n",
      "|    0| 69|           Ohio, USA|\n",
      "|    0| 42|                None|\n",
      "|    0| 73|       Kentucky, USA|\n",
      "|    0| 87|                null|\n",
      "|    0| 64|                None|\n",
      "|    0|  3|      Menlo Park, CA|\n",
      "|    0| 30|                None|\n",
      "|    0| 34|       Manhattan, NY|\n",
      "|    0| 34|      #Destiny2 wonk|\n",
      "|    0| 59|         Nevada, USA|\n",
      "|    0|  8|                None|\n",
      "|    0| 22|                None|\n",
      "|    0| 22|                null|\n",
      "+-----+---+--------------------+\n",
      "only showing top 20 rows\n",
      "\n"
     ]
    }
   ],
   "source": [
    "graph.triangleCount().show()"
   ]
  },
  {
   "cell_type": "code",
   "execution_count": 36,
   "metadata": {},
   "outputs": [],
   "source": [
    "pageRankgraph=graph.pageRank(resetProbability=0.15,maxIter=4)"
   ]
  },
  {
   "cell_type": "code",
   "execution_count": 37,
   "metadata": {},
   "outputs": [
    {
     "name": "stdout",
     "output_type": "stream",
     "text": [
      "+---+--------------------+------------------+\n",
      "| id|       user_location|          pagerank|\n",
      "+---+--------------------+------------------+\n",
      "| 42|                None|1.0000000000000002|\n",
      "| 52|               India|1.0000000000000002|\n",
      "| 75|West Region, Sing...|1.0000000000000002|\n",
      "| 62|                None|1.0000000000000002|\n",
      "| 82|                None|1.0000000000000002|\n",
      "|  1|                None|1.0000000000000002|\n",
      "| 32|      Wisconsin, USA|1.0000000000000002|\n",
      "| 20|Winter Haven Florida|1.0000000000000002|\n",
      "| 20|        Cairo, Egypt|1.0000000000000002|\n",
      "| 68|37.783253,-122.39343|1.0000000000000002|\n",
      "| 58|                None|1.0000000000000002|\n",
      "| 61|                null|1.0000000000000002|\n",
      "| 24| Melbourne, Victoria|1.0000000000000002|\n",
      "|  8|                None|1.0000000000000002|\n",
      "| 30|                None|1.0000000000000002|\n",
      "| 92|                None|1.0000000000000002|\n",
      "| 64|                None|1.0000000000000002|\n",
      "| 45|   Deep in thought☁️|1.0000000000000002|\n",
      "| 45|                null|1.0000000000000002|\n",
      "| 60|                None|1.0000000000000002|\n",
      "+---+--------------------+------------------+\n",
      "only showing top 20 rows\n",
      "\n"
     ]
    }
   ],
   "source": [
    "pageRankgraph.vertices.show()"
   ]
  },
  {
   "cell_type": "code",
   "execution_count": 38,
   "metadata": {},
   "outputs": [
    {
     "name": "stdout",
     "output_type": "stream",
     "text": [
      "+---+---+------+\n",
      "|src|dst|weight|\n",
      "+---+---+------+\n",
      "+---+---+------+\n",
      "\n"
     ]
    }
   ],
   "source": [
    "pageRankgraph.edges.show()"
   ]
  },
  {
   "cell_type": "code",
   "execution_count": 39,
   "metadata": {},
   "outputs": [],
   "source": [
    "graph.vertices.write.parquet(\"vertices\")\n",
    "graph.edges.write.parquet(\"edges\")"
   ]
  },
  {
   "cell_type": "code",
   "execution_count": 40,
   "metadata": {},
   "outputs": [
    {
     "name": "stdout",
     "output_type": "stream",
     "text": [
      "+---+-------------+\n",
      "| id|        label|\n",
      "+---+-------------+\n",
      "| 42| 128849018880|\n",
      "| 52| 283467841538|\n",
      "| 75| 506806140928|\n",
      "| 62|1451698946048|\n",
      "| 82| 919123001344|\n",
      "|  1|1236950581248|\n",
      "| 32|1211180777472|\n",
      "| 20|1254130450432|\n",
      "| 20|1254130450432|\n",
      "| 68| 704374636545|\n",
      "| 58|1005022347264|\n",
      "| 61| 498216206337|\n",
      "| 24|1194000908288|\n",
      "|  8| 223338299392|\n",
      "| 30| 163208757248|\n",
      "| 92| 970662608896|\n",
      "| 64| 146028888064|\n",
      "| 45|1683627180032|\n",
      "| 45|1683627180032|\n",
      "| 60| 704374636544|\n",
      "+---+-------------+\n",
      "only showing top 20 rows\n",
      "\n"
     ]
    }
   ],
   "source": [
    "result=graph.labelPropagation(maxIter=5)\n",
    "result.select(\"id\",\"label\").show()"
   ]
  },
  {
   "cell_type": "code",
   "execution_count": null,
   "metadata": {},
   "outputs": [],
   "source": []
  }
 ],
 "metadata": {
  "kernelspec": {
   "display_name": "Python 3",
   "language": "python",
   "name": "python3"
  },
  "language_info": {
   "codemirror_mode": {
    "name": "ipython",
    "version": 3
   },
   "file_extension": ".py",
   "mimetype": "text/x-python",
   "name": "python",
   "nbconvert_exporter": "python",
   "pygments_lexer": "ipython3",
   "version": "3.7.3"
  }
 },
 "nbformat": 4,
 "nbformat_minor": 2
}
