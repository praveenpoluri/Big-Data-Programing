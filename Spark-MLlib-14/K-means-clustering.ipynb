{
 "cells": [
  {
   "cell_type": "code",
   "execution_count": 1,
   "metadata": {},
   "outputs": [],
   "source": [
    "\n",
    "from pyspark.sql import SparkSession\n",
    "from pyspark.sql.functions import col\n",
    "from pyspark.ml.clustering import KMeans\n",
    "from pyspark.ml.feature import VectorAssembler\n",
    "import os\n",
    "\n",
    "# Create spark session\n",
    "spark = SparkSession.builder.appName(\"ICP 7\").getOrCreate()\n",
    "spark.sparkContext.setLogLevel(\"ERROR\")"
   ]
  },
  {
   "cell_type": "code",
   "execution_count": 2,
   "metadata": {},
   "outputs": [
    {
     "name": "stdout",
     "output_type": "stream",
     "text": [
      "Cluster Centers: \n",
      "[ 2.28821023  3.58880208  5.55565814  3.50350379 24.50454545]\n",
      "[ 1.83652522  3.80564795  5.89549105  5.02929812 56.2879918 ]\n"
     ]
    }
   ],
   "source": [
    "# Load data and select feature and label columns\n",
    "data = spark.read.format(\"csv\").option(\"header\", True).option(\"inferSchema\", True).option(\"delimiter\", \",\").load(\"diabetic_data.csv\")\n",
    "data = data.select(\"admission_type_id\", \"discharge_disposition_id\", \"admission_source_id\", \"time_in_hospital\", \"num_lab_procedures\")\n",
    "\n",
    "# Create vector assembler for feature columns\n",
    "assembler = VectorAssembler(inputCols=data.columns, outputCol=\"features\")\n",
    "data = assembler.transform(data)\n",
    "\n",
    "# Trains a k-means model.\n",
    "kmeans = KMeans().setK(2).setSeed(1)\n",
    "\n",
    "model = kmeans.fit(data)\n",
    "\n",
    "# Make predictions\n",
    "predictions = model.transform(data)\n",
    "\n",
    "# Shows the result.\n",
    "centers = model.clusterCenters()\n",
    "print(\"Cluster Centers: \")\n",
    "for center in centers:\n",
    "    print(center)"
   ]
  }
 ],
 "metadata": {
  "kernelspec": {
   "display_name": "Python 3",
   "language": "python",
   "name": "python3"
  },
  "language_info": {
   "codemirror_mode": {
    "name": "ipython",
    "version": 3
   },
   "file_extension": ".py",
   "mimetype": "text/x-python",
   "name": "python",
   "nbconvert_exporter": "python",
   "pygments_lexer": "ipython3",
   "version": "3.7.3"
  }
 },
 "nbformat": 4,
 "nbformat_minor": 2
}
